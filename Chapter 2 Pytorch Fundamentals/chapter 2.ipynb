{
 "cells": [
  {
   "cell_type": "code",
   "execution_count": 324,
   "metadata": {},
   "outputs": [],
   "source": [
    "import numpy as np\n",
    "import torch\n",
    "import torch.nn as nn\n",
    "import pandas as pd\n",
    "import matplotlib.pyplot as plt\n",
    "import seaborn as sns\n",
    "import torchsummary \n",
    "from torchsummary import summary"
   ]
  },
  {
   "cell_type": "markdown",
   "metadata": {},
   "source": [
    "### Pytorch Tensor"
   ]
  },
  {
   "cell_type": "markdown",
   "metadata": {},
   "source": [
    "* Operations on tensors"
   ]
  },
  {
   "cell_type": "code",
   "execution_count": null,
   "metadata": {},
   "outputs": [],
   "source": []
  },
  {
   "cell_type": "markdown",
   "metadata": {},
   "source": [
    "* Auto gradients of tensor objects"
   ]
  },
  {
   "cell_type": "code",
   "execution_count": 325,
   "metadata": {},
   "outputs": [
    {
     "name": "stdout",
     "output_type": "stream",
     "text": [
      "tensor([[ 2., -1.],\n",
      "        [ 1.,  1.]], requires_grad=True)\n"
     ]
    }
   ],
   "source": [
    "# 1. Define a tensor object and also specify that it requires a gradient to be calculated:\n",
    "x = torch.tensor([[2., -1.], [1., 1.]], requires_grad=True)\n",
    "print(x)"
   ]
  },
  {
   "cell_type": "code",
   "execution_count": 326,
   "metadata": {},
   "outputs": [],
   "source": [
    "# 2. Next, define the way to calculate the output, which in this specific case is\n",
    "# the sum of the squares of all inputs:\n",
    "out = x.pow(2).sum()"
   ]
  },
  {
   "cell_type": "code",
   "execution_count": 327,
   "metadata": {},
   "outputs": [],
   "source": [
    "# 3. The gradient of a value can be calculated by calling the backward()\n",
    "# method to the value. In our case, we calculate the gradient – change in\n",
    "# out (output) for a small change in x (input) – as follows:\n",
    "out.backward()"
   ]
  },
  {
   "cell_type": "code",
   "execution_count": 328,
   "metadata": {},
   "outputs": [
    {
     "data": {
      "text/plain": [
       "tensor([[ 4., -2.],\n",
       "        [ 2.,  2.]])"
      ]
     },
     "execution_count": 328,
     "metadata": {},
     "output_type": "execute_result"
    }
   ],
   "source": [
    "# 4. We are now in a position to obtain the gradient of out with respect to x, as follows:\n",
    "x.grad"
   ]
  },
  {
   "cell_type": "code",
   "execution_count": null,
   "metadata": {},
   "outputs": [],
   "source": []
  },
  {
   "cell_type": "markdown",
   "metadata": {},
   "source": [
    "* Advantages of PyTorch's tensors over NumPy's ndarrays"
   ]
  },
  {
   "cell_type": "code",
   "execution_count": 329,
   "metadata": {},
   "outputs": [],
   "source": [
    "# A Torch tensor object is optimized to work with a GPU compared to NumPy\n",
    "\n",
    "# 1. Generate two different torch objects:\n",
    "x = torch.rand(1, 6400)\n",
    "y = torch.rand(6400, 5000)\n",
    "\n",
    "# 2. Define the device to which we will store the tensor objects we created in\n",
    "# step 1:\n",
    "device = 'cuda' if torch.cuda.is_available() else 'cpu'\n",
    "\n",
    "# 3. Register the tensor objects that were created in step 1 with the device.\n",
    "# Registering tensor objects means storing information in a device:\n",
    "x, y = x.to(device=device), y.to(device=device)\n",
    "\n",
    "# 4. Perform matrix multiplication of the Torch objects and also, time it so that\n",
    "# we can compare the speed in a scenario where matrix multiplication is\n",
    "# performed on NumPy arrays:\n",
    "z = x@y"
   ]
  },
  {
   "cell_type": "code",
   "execution_count": 330,
   "metadata": {},
   "outputs": [],
   "source": [
    "# 5. Perform matrix multiplication of the same tensors on cpu:\n",
    "x, y = x.cpu(), y.cpu()\n"
   ]
  },
  {
   "cell_type": "markdown",
   "metadata": {},
   "source": [
    "### Building a neural network using PyTorch"
   ]
  },
  {
   "cell_type": "code",
   "execution_count": 331,
   "metadata": {},
   "outputs": [],
   "source": [
    "# 1. Define the input x and output y values:\n",
    "x = [[1,2],[3,4],[5,6],[7,8]]\n",
    "y = [[3],[7],[11],[15]]"
   ]
  },
  {
   "cell_type": "code",
   "execution_count": 332,
   "metadata": {},
   "outputs": [],
   "source": [
    "# 2. Convert the input lists into tensor objects:\n",
    "x = torch.tensor(x).float()\n",
    "y = torch.tensor(y).float()\n",
    "# Register to GPU if available:\n",
    "device = 'cuda' if torch.cuda.is_available() else 'cpu'\n",
    "x, y = x.to(device=device), y.to(device=device)"
   ]
  },
  {
   "cell_type": "code",
   "execution_count": 333,
   "metadata": {},
   "outputs": [],
   "source": [
    "# 3. Define the neural network architecture:\n",
    "from turtle import forward\n",
    "\n",
    "\n",
    "class MyNeuralNet(nn.Module):\n",
    "    def __init__(self):\n",
    "        super(MyNeuralNet, self).__init__()\n",
    "        \n",
    "        # define the layers in NN:\n",
    "        self.input_to_hidden = nn.Linear(2, 8)\n",
    "        self.hidden_layer_activation = nn.ReLU()\n",
    "        self.hiddent_to_output = nn.Linear(8, 1)\n",
    "\n",
    "    def forward(self, x):\n",
    "        # define the forward pass:\n",
    "        x = self.input_to_hidden(x)\n",
    "        x = self.hidden_layer_activation(x)\n",
    "        x = self.hiddent_to_output(x)\n",
    "        return x"
   ]
  },
  {
   "cell_type": "code",
   "execution_count": 334,
   "metadata": {},
   "outputs": [
    {
     "data": {
      "text/plain": [
       "Parameter containing:\n",
       "tensor([[-0.5598, -0.2387],\n",
       "        [ 0.0056,  0.4947],\n",
       "        [ 0.1813, -0.4351],\n",
       "        [-0.5140, -0.5449],\n",
       "        [ 0.6990,  0.5592],\n",
       "        [ 0.4583, -0.2984],\n",
       "        [ 0.5619,  0.5874],\n",
       "        [-0.2946, -0.6538]], requires_grad=True)"
      ]
     },
     "execution_count": 334,
     "metadata": {},
     "output_type": "execute_result"
    }
   ],
   "source": [
    "# 4. You can access the initial weights of each of the components by performing\n",
    "# the following steps:\n",
    "    # Create an instance of the MyNeuralNet class object that we defined\n",
    "    # earlier and register it to device:\n",
    "mynet = MyNeuralNet().to(device)\n",
    "\n",
    "    # The weights and bias of each layer can be accessed by specifying the\n",
    "    # following:\n",
    "mynet.input_to_hidden.weight"
   ]
  },
  {
   "cell_type": "code",
   "execution_count": 335,
   "metadata": {},
   "outputs": [
    {
     "data": {
      "text/plain": [
       "tensor(51.7640, grad_fn=<MseLossBackward0>)"
      ]
     },
     "execution_count": 335,
     "metadata": {},
     "output_type": "execute_result"
    }
   ],
   "source": [
    "# 5. Define the loss function that we optimize for. Given that we are predicting\n",
    "# for a continuous output, we'll optimize for mean squared error:\n",
    "loss_func = nn.MSELoss()\n",
    "# The loss value of a neural network can be calculated by passing the\n",
    "# input values through the neuralnet object and then\n",
    "# calculating MSELoss for the given inputs:\n",
    "_y = mynet(x)\n",
    "loss_value = loss_func(_y, y)\n",
    "loss_value\n",
    "\n",
    "# *Note:  use _<variable> to associate prediction \n",
    "# corresponding to the ground truth <variable>"
   ]
  },
  {
   "cell_type": "code",
   "execution_count": 336,
   "metadata": {},
   "outputs": [],
   "source": [
    "# 6. Import the SGD method from the torch.optim module and then pass the\n",
    "# neural network object (mynet) and learning rate (lr) as parameters to the\n",
    "# SGD method:\n",
    "from torch.optim import SGD\n",
    "optimizer = SGD(mynet.parameters(), lr=0.001)"
   ]
  },
  {
   "cell_type": "code",
   "execution_count": 337,
   "metadata": {},
   "outputs": [
    {
     "data": {
      "text/plain": [
       "Text(0, 0.5, 'loss value')"
      ]
     },
     "execution_count": 337,
     "metadata": {},
     "output_type": "execute_result"
    },
    {
     "data": {
      "image/png": "[encoded data removed]",
      "text/plain": [
       "<Figure size 432x288 with 1 Axes>"
      ]
     },
     "metadata": {
      "needs_background": "light"
     },
     "output_type": "display_data"
    }
   ],
   "source": [
    "# 7. Perform all the steps to be done in an epoch together:\n",
    "# * Calculate the loss value corresponding to the given input and output.\n",
    "# * Calculate the gradient corresponding to each parameter.\n",
    "# * Update the weights based on the learning rate and gradient of each\n",
    "#   parameter.\n",
    "# * Once the weights are updated, ensure that the gradients that have\n",
    "#   been calculated in the previous step are flushed before calculating the\n",
    "#   gradients in the next epoch:\n",
    "loss_history = []\n",
    "for _ in range(50):     # 50 epoch\n",
    "    # ensure that the gradients that have\n",
    "    # been calculated in the previous step are flushed before calculating the\n",
    "    # gradients in the next epoch:\n",
    "    optimizer.zero_grad()\n",
    "\n",
    "    # Calculate the loss value corresponding to the given input and output.\n",
    "    loss_value = loss_func(mynet(x), y)\n",
    "\n",
    "    # Calculate the gradient corresponding to each parameter.\n",
    "    loss_value.backward()\n",
    "\n",
    "    # Update the weights based on the learning rate and gradient of each\n",
    "    optimizer.step()\n",
    "\n",
    "    # store the loss value in a list:\n",
    "    loss_history.append(loss_value)\n",
    "\n",
    "plt.plot(loss_history)\n",
    "plt.title('Loss variation over increasing epochs')\n",
    "plt.xlabel('epochs')\n",
    "plt.ylabel('loss value')"
   ]
  },
  {
   "cell_type": "markdown",
   "metadata": {},
   "source": [
    "* Dataset, DataLoader, and batch size"
   ]
  },
  {
   "cell_type": "code",
   "execution_count": 338,
   "metadata": {},
   "outputs": [],
   "source": [
    "# 1. Import the methods that help in loadding data and dealing with datasets:\n",
    "from torch.utils.data import Dataset, DataLoader"
   ]
  },
  {
   "cell_type": "code",
   "execution_count": 339,
   "metadata": {},
   "outputs": [],
   "source": [
    "# 2. Import the data, convert the data into floating-point numbers, and register them to device:\n",
    "x = [[1,2],[3,4],[5,6],[7,8]]\n",
    "y = [[3],[7],[11],[15]]\n",
    "# Convert data to floating-point numbers:\n",
    "x = torch.tensor(x).float()\n",
    "y = torch.tensor(y).float()\n",
    "# Register to GPU if available:\n",
    "device = 'cuda' if torch.cuda.is_available() else 'cpu'\n",
    "x, y = x.to(device=device), y.to(device=device)"
   ]
  },
  {
   "cell_type": "code",
   "execution_count": 340,
   "metadata": {},
   "outputs": [],
   "source": [
    "# 3. Instantiate a class of the dataset - MyDataset:\n",
    "class MyDataset(Dataset):\n",
    "    def __init__(self, x, y):\n",
    "        self.x = torch.tensor(x).float()\n",
    "        self.y = torch.tensor(y).float()\n",
    "\n",
    "    def __len__(self):\n",
    "        return len(self.x)\n",
    "\n",
    "    def __getitem__(self, idx):\n",
    "        return self.x[idx], self.y[idx]  \n",
    "        # idx: index of row     "
   ]
  },
  {
   "cell_type": "code",
   "execution_count": 341,
   "metadata": {},
   "outputs": [
    {
     "name": "stderr",
     "output_type": "stream",
     "text": [
      "c:\\Users\\longl\\anaconda3\\lib\\site-packages\\ipykernel_launcher.py:4: UserWarning: To copy construct from a tensor, it is recommended to use sourceTensor.clone().detach() or sourceTensor.clone().detach().requires_grad_(True), rather than torch.tensor(sourceTensor).\n",
      "  after removing the cwd from sys.path.\n",
      "c:\\Users\\longl\\anaconda3\\lib\\site-packages\\ipykernel_launcher.py:5: UserWarning: To copy construct from a tensor, it is recommended to use sourceTensor.clone().detach() or sourceTensor.clone().detach().requires_grad_(True), rather than torch.tensor(sourceTensor).\n",
      "  \"\"\"\n"
     ]
    }
   ],
   "source": [
    "# 4. Create an instance of the defined class:\n",
    "ds = MyDataset(x, y)"
   ]
  },
  {
   "cell_type": "code",
   "execution_count": 342,
   "metadata": {},
   "outputs": [],
   "source": [
    "# 5. Pass the data instance defined previously through DataLoader \n",
    "# to fetch the batch_size number of data points from the original input and output\n",
    "# tensor objects:\n",
    "dl = DataLoader(ds, batch_size=2)"
   ]
  },
  {
   "cell_type": "code",
   "execution_count": 343,
   "metadata": {},
   "outputs": [],
   "source": [
    "# 6. Define model object, loss function and optimizer:\n",
    "mynet = MyNeuralNet().to(device)\n",
    "loss_func = nn.MSELoss()\n",
    "optimizer = SGD(mynet.parameters(), lr=0.001)"
   ]
  },
  {
   "cell_type": "code",
   "execution_count": 344,
   "metadata": {},
   "outputs": [
    {
     "data": {
      "text/plain": [
       "Text(0, 0.5, 'loss value')"
      ]
     },
     "execution_count": 344,
     "metadata": {},
     "output_type": "execute_result"
    },
    {
     "data": {
      "image/png": "[encoded data removed]",
      "text/plain": [
       "<Figure size 432x288 with 1 Axes>"
      ]
     },
     "metadata": {
      "needs_background": "light"
     },
     "output_type": "display_data"
    }
   ],
   "source": [
    "# 7. Finally, loop through the batches of data point\n",
    "# to minimize the loss value:\n",
    "loss_history = []\n",
    "for _ in range(50):\n",
    "    for data in dl:\n",
    "        x, y = data\n",
    "        optimizer.zero_grad()\n",
    "        loss_value = loss_func(mynet(x), y)\n",
    "        loss_value.backward()\n",
    "        optimizer.step()\n",
    "        loss_history.append(loss_value)\n",
    "plt.plot(loss_history)\n",
    "plt.title('Loss variation over increasing epochs')\n",
    "plt.xlabel('epochs')\n",
    "plt.ylabel('loss value')"
   ]
  },
  {
   "cell_type": "markdown",
   "metadata": {},
   "source": [
    "* Predicting on new data points"
   ]
  },
  {
   "cell_type": "code",
   "execution_count": 345,
   "metadata": {},
   "outputs": [],
   "source": [
    "# 1. Create the data points that we want to test our model on:\n",
    "val_x = [[10, 11]]"
   ]
  },
  {
   "cell_type": "code",
   "execution_count": 346,
   "metadata": {},
   "outputs": [],
   "source": [
    "# 2. Convert the new data points into a tensor float object \n",
    "# and register it to device:\n",
    "val_x = torch.tensor(val_x).float()\n",
    "val_x = val_x.to(device=device)"
   ]
  },
  {
   "cell_type": "code",
   "execution_count": 347,
   "metadata": {},
   "outputs": [
    {
     "data": {
      "text/plain": [
       "tensor([[20.4826]], grad_fn=<AddmmBackward0>)"
      ]
     },
     "execution_count": 347,
     "metadata": {},
     "output_type": "execute_result"
    }
   ],
   "source": [
    "# 3. Pass the tensor object through the trained neural network:\n",
    "val_y = mynet(val_x)\n",
    "val_y"
   ]
  },
  {
   "cell_type": "code",
   "execution_count": 348,
   "metadata": {},
   "outputs": [],
   "source": [
    "true_y = [[20]]\n",
    "true_y = torch.tensor(true_y).float().to(device=device)"
   ]
  },
  {
   "cell_type": "markdown",
   "metadata": {},
   "source": [
    "* Implementing a custom loss function"
   ]
  },
  {
   "cell_type": "code",
   "execution_count": 349,
   "metadata": {},
   "outputs": [
    {
     "name": "stdout",
     "output_type": "stream",
     "text": [
      "tensor(0.2329, grad_fn=<MseLossBackward0>)\n"
     ]
    }
   ],
   "source": [
    "loss_func = nn.MSELoss()\n",
    "loss_value = loss_func(mynet(val_x), true_y)\n",
    "print(loss_value)"
   ]
  },
  {
   "cell_type": "markdown",
   "metadata": {},
   "source": [
    "* Fetching the values of intermediate layers"
   ]
  },
  {
   "cell_type": "code",
   "execution_count": 350,
   "metadata": {},
   "outputs": [],
   "source": [
    "# In certain scenarios, it is helpful to fetch the intermediate layer values of the neural\n",
    "# network (more on this when we discuss the style transfer and transfer learning use\n",
    "# cases in later chapters).\n",
    "# PyTorch provides the functionality to fetch the intermediate values of the neural\n",
    "# network in two ways:"
   ]
  },
  {
   "cell_type": "code",
   "execution_count": 351,
   "metadata": {},
   "outputs": [
    {
     "name": "stdout",
     "output_type": "stream",
     "text": [
      "tensor([[ 0.0000,  3.0725, 15.3785,  0.0000,  8.4502, 11.1621,  0.0000,  4.3630]],\n",
      "       grad_fn=<ReluBackward0>)\n"
     ]
    }
   ],
   "source": [
    "# * One way is by directly calling layers as if they are functions. \n",
    "# This can be done as follows:\n",
    "\n",
    "input_to_hidden = mynet.input_to_hidden(val_x)\n",
    "hidden_activation = mynet.hidden_layer_activation(input_to_hidden)\n",
    "print(hidden_activation)\n",
    "\n",
    "# Note that we had to call the input_to_hidden_layer activation prior\n",
    "# to calling hidden_layer_activation as the output of\n",
    "# input_to_hidden_layer is the input to\n",
    "# the hidden_layer_activation layer."
   ]
  },
  {
   "cell_type": "code",
   "execution_count": 352,
   "metadata": {},
   "outputs": [],
   "source": [
    "# The other way is by specifying the layers that we want to look at in\n",
    "# the forward method.\n",
    "class neuralnet(nn.Module):\n",
    "    def __init__(self):\n",
    "        super().__init__()\n",
    "        self.input_to_hidden = nn.Linear(2, 8)\n",
    "        self.hidden_layer_activation = nn.ReLU()\n",
    "        self.hidden_to_output = nn.Linear(8, 1)\n",
    "\n",
    "    def forward(self, x):\n",
    "        hidden1 = self.input_to_hidden(x)\n",
    "        hidden2 = self.hidden_layer_activation(hidden1)\n",
    "        output = self.hidden_to_output(hidden2)\n",
    "        return output, hidden2"
   ]
  },
  {
   "cell_type": "code",
   "execution_count": 353,
   "metadata": {},
   "outputs": [
    {
     "data": {
      "text/plain": [
       "tensor([[3.3399, 2.7326, 0.0000, 0.0000, 1.6294, 0.2645, 3.3170, 1.5315],\n",
       "        [4.4118, 3.9064, 0.0000, 0.0000, 2.1175, 0.2290, 4.2507, 2.0212]],\n",
       "       grad_fn=<ReluBackward0>)"
      ]
     },
     "execution_count": 353,
     "metadata": {},
     "output_type": "execute_result"
    }
   ],
   "source": [
    "mynet = neuralnet().to(device)\n",
    "mynet(x)[1]"
   ]
  },
  {
   "cell_type": "code",
   "execution_count": 354,
   "metadata": {},
   "outputs": [
    {
     "data": {
      "text/plain": [
       "tensor([[0.9314],\n",
       "        [1.1470]], grad_fn=<AddmmBackward0>)"
      ]
     },
     "execution_count": 354,
     "metadata": {},
     "output_type": "execute_result"
    }
   ],
   "source": [
    "mynet(x)[0]"
   ]
  },
  {
   "cell_type": "markdown",
   "metadata": {},
   "source": [
    "### Using a sequential method to build a neural network"
   ]
  },
  {
   "cell_type": "code",
   "execution_count": 355,
   "metadata": {},
   "outputs": [],
   "source": [
    "# 1. Define the toy dataset:\n",
    "x = [[1,2],[3,4],[5,6],[7,8]]\n",
    "y = [[3],[7],[11],[15]]"
   ]
  },
  {
   "cell_type": "code",
   "execution_count": 356,
   "metadata": {},
   "outputs": [],
   "source": [
    "# 2. Import the relevant packages and define the \n",
    "# device we will work on:\n",
    "import torch\n",
    "from torch import nn\n",
    "from torch.optim import SGD\n",
    "from torch.utils.data import Dataset, DataLoader\n",
    "device = 'cuda' if torch.cuda.is_available() else 'cpu'"
   ]
  },
  {
   "cell_type": "code",
   "execution_count": 357,
   "metadata": {},
   "outputs": [],
   "source": [
    "# 3. Define dataset class:\n",
    "class MyDataset(Dataset):\n",
    "    def __init__(self, x, y):\n",
    "        self.x = torch.tensor(x).float().to(device=device)\n",
    "        self.y = torch.tensor(y).float().to(device=device)\n",
    "\n",
    "    def __len__(self):\n",
    "        return len(self.x)\n",
    "\n",
    "    def __getitem__(self, idx):\n",
    "        return self.x[idx], self.y[idx]"
   ]
  },
  {
   "cell_type": "code",
   "execution_count": 358,
   "metadata": {},
   "outputs": [],
   "source": [
    "# 4. Define the dataset and dataloader object:\n",
    "ds = MyDataset(x, y)\n",
    "dl = DataLoader(ds, batch_size=2, shuffle=True)"
   ]
  },
  {
   "cell_type": "code",
   "execution_count": 359,
   "metadata": {},
   "outputs": [],
   "source": [
    "# 5. Define the neural network architecture using Sequntial method:\n",
    "myModel = nn.Sequential(\n",
    "    nn.Linear(2, 8),\n",
    "    nn.ReLU(),\n",
    "    nn.Linear(8, 1)\n",
    ").to(device)"
   ]
  },
  {
   "cell_type": "code",
   "execution_count": 360,
   "metadata": {},
   "outputs": [
    {
     "name": "stdout",
     "output_type": "stream",
     "text": [
      "Sequential(\n",
      "  (0): Linear(in_features=2, out_features=8, bias=True)\n",
      "  (1): ReLU()\n",
      "  (2): Linear(in_features=8, out_features=1, bias=True)\n",
      ")\n"
     ]
    }
   ],
   "source": [
    "# 6. Print a summary of the neural network architecture:\n",
    "print(myModel)\n"
   ]
  },
  {
   "cell_type": "code",
   "execution_count": 361,
   "metadata": {},
   "outputs": [
    {
     "name": "stdout",
     "output_type": "stream",
     "text": [
      "==========================================================================================\n",
      "Layer (type:depth-idx)                   Output Shape              Param #\n",
      "==========================================================================================\n",
      "├─Linear: 1-1                            [-1, 8]                   24\n",
      "├─ReLU: 1-2                              [-1, 8]                   --\n",
      "├─Linear: 1-3                            [-1, 1]                   9\n",
      "==========================================================================================\n",
      "Total params: 33\n",
      "Trainable params: 33\n",
      "Non-trainable params: 0\n",
      "Total mult-adds (M): 0.00\n",
      "==========================================================================================\n",
      "Input size (MB): 0.00\n",
      "Forward/backward pass size (MB): 0.00\n",
      "Params size (MB): 0.00\n",
      "Estimated Total Size (MB): 0.00\n",
      "==========================================================================================\n"
     ]
    },
    {
     "data": {
      "text/plain": [
       "==========================================================================================\n",
       "Layer (type:depth-idx)                   Output Shape              Param #\n",
       "==========================================================================================\n",
       "├─Linear: 1-1                            [-1, 8]                   24\n",
       "├─ReLU: 1-2                              [-1, 8]                   --\n",
       "├─Linear: 1-3                            [-1, 1]                   9\n",
       "==========================================================================================\n",
       "Total params: 33\n",
       "Trainable params: 33\n",
       "Non-trainable params: 0\n",
       "Total mult-adds (M): 0.00\n",
       "==========================================================================================\n",
       "Input size (MB): 0.00\n",
       "Forward/backward pass size (MB): 0.00\n",
       "Params size (MB): 0.00\n",
       "Estimated Total Size (MB): 0.00\n",
       "=========================================================================================="
      ]
     },
     "execution_count": 361,
     "metadata": {},
     "output_type": "execute_result"
    }
   ],
   "source": [
    "summary(myModel, torch.zeros(1, 2).to(device=device))"
   ]
  },
  {
   "cell_type": "code",
   "execution_count": 362,
   "metadata": {},
   "outputs": [],
   "source": [
    "# Note that the output shape of the first layer is (-1, 8), where -1 represents\n",
    "# that there can be as many data points as the batch size, and 8 represents that\n",
    "# for each data point, we have an eight-dimensional output resulting in an\n",
    "# output of the shape batch size x 8. The interpretation for the next two layers is similar"
   ]
  },
  {
   "cell_type": "code",
   "execution_count": 363,
   "metadata": {},
   "outputs": [
    {
     "data": {
      "text/plain": [
       "Text(0, 0.5, 'loss value')"
      ]
     },
     "execution_count": 363,
     "metadata": {},
     "output_type": "execute_result"
    },
    {
     "data": {
      "image/png": "[encoded data removed]",
      "text/plain": [
       "<Figure size 432x288 with 1 Axes>"
      ]
     },
     "metadata": {
      "needs_background": "light"
     },
     "output_type": "display_data"
    }
   ],
   "source": [
    "# 7. Next, we define the loss function (loss_func) and optimizer (opt) and\n",
    "# train the model, just like we did in the previous section. Note that, in this\n",
    "# case, we need not define a model object; a network is not defined within a\n",
    "# class in this scenario:\n",
    "loss_func = nn.MSELoss()\n",
    "opt = SGD(myModel.parameters(), lr=0.001)\n",
    "loss_history = []\n",
    "for _ in range(50):\n",
    "    for data in dl:\n",
    "        x, y = data\n",
    "        opt.zero_grad()\n",
    "        loss_value = loss_func(myModel(x), y)\n",
    "        loss_value.backward()\n",
    "        opt.step()\n",
    "        loss_history.append(loss_value)\n",
    "plt.plot(loss_history)\n",
    "plt.title('Loss variation over increasing epochs')\n",
    "plt.xlabel('epochs')\n",
    "plt.ylabel('loss value')"
   ]
  },
  {
   "cell_type": "code",
   "execution_count": 364,
   "metadata": {},
   "outputs": [
    {
     "data": {
      "text/plain": [
       "tensor([[16.9374],\n",
       "        [20.8900],\n",
       "        [ 4.0912]], grad_fn=<AddmmBackward0>)"
      ]
     },
     "execution_count": 364,
     "metadata": {},
     "output_type": "execute_result"
    }
   ],
   "source": [
    "# 8. Now that we have trained the model, we can \n",
    "# predict values on a validation dataset that we define now:\n",
    "# * Define the validation dataset:\n",
    "val = [[8, 9], [10, 11], [1.5, 2.5]]\n",
    "myModel(torch.tensor(val).float().to(device=device))"
   ]
  },
  {
   "cell_type": "markdown",
   "metadata": {},
   "source": [
    "### Saving and loading a PyTorch model"
   ]
  },
  {
   "cell_type": "markdown",
   "metadata": {},
   "source": [
    "* state dict"
   ]
  },
  {
   "cell_type": "code",
   "execution_count": 365,
   "metadata": {},
   "outputs": [
    {
     "data": {
      "text/plain": [
       "OrderedDict([('0.weight',\n",
       "              tensor([[-0.3621,  0.4834],\n",
       "                      [ 0.3966, -0.5762],\n",
       "                      [ 0.0799,  0.0466],\n",
       "                      [ 0.8543,  0.7030],\n",
       "                      [-0.6156, -0.0111],\n",
       "                      [-0.1940,  0.7829],\n",
       "                      [-0.1523, -0.1666],\n",
       "                      [-0.1590, -0.4451]])),\n",
       "             ('0.bias',\n",
       "              tensor([-0.4035,  0.5675,  0.3466,  0.4033, -0.0235, -0.6368, -0.0297,  0.1122])),\n",
       "             ('2.weight',\n",
       "              tensor([[ 0.0197, -0.1986, -0.0272,  1.1060, -0.0525,  0.4330,  0.3524,  0.0343]])),\n",
       "             ('2.bias', tensor([-0.1510]))])"
      ]
     },
     "execution_count": 365,
     "metadata": {},
     "output_type": "execute_result"
    }
   ],
   "source": [
    "# The model.state_dict() command is at the root of understanding how saving and\n",
    "# loading PyTorch models works. The dictionary in model.state_dict()\n",
    "# corresponds to the parameter names (keys) and the values (weight and bias values)\n",
    "# corresponding to the model. state refers to the current snapshot of the model (where\n",
    "# the snapshot is the set of values at each tensor).\n",
    "# It returns a dictionary (OrderedDict) of keys and values:\n",
    "myModel.state_dict()"
   ]
  },
  {
   "cell_type": "markdown",
   "metadata": {},
   "source": [
    "* Saving"
   ]
  },
  {
   "cell_type": "code",
   "execution_count": 366,
   "metadata": {},
   "outputs": [],
   "source": [
    "torch.save(myModel.to('cpu').state_dict(), 'myModel.pt')"
   ]
  },
  {
   "cell_type": "markdown",
   "metadata": {},
   "source": [
    "* Loading"
   ]
  },
  {
   "cell_type": "code",
   "execution_count": 367,
   "metadata": {},
   "outputs": [],
   "source": [
    "# Loading a model would require us to initialize the model with random weights first\n",
    "# and then load the weights from state_dict:\n",
    "# 1. Create an empty model:\n",
    "model_loaded = nn.Sequential(\n",
    "    nn.Linear(2, 8),\n",
    "    nn.ReLU(),\n",
    "    nn.Linear(8, 1)\n",
    ").to(device)"
   ]
  },
  {
   "cell_type": "code",
   "execution_count": 368,
   "metadata": {},
   "outputs": [],
   "source": [
    "# 2. Load the moel from disk and unserialize it to \n",
    "# create an orderedDict value:\n",
    "state_dict = torch.load('myModel.pt')"
   ]
  },
  {
   "cell_type": "code",
   "execution_count": 369,
   "metadata": {},
   "outputs": [
    {
     "data": {
      "text/plain": [
       "tensor([[16.9374],\n",
       "        [20.8900],\n",
       "        [ 4.0912]], grad_fn=<AddmmBackward0>)"
      ]
     },
     "execution_count": 369,
     "metadata": {},
     "output_type": "execute_result"
    }
   ],
   "source": [
    "# 3. Load state_dict onto model, register to device and make a prediction:\n",
    "model_loaded.load_state_dict(state_dict)\n",
    "model_loaded.to(device)\n",
    "model_loaded(torch.tensor(val).float().to(device=device))"
   ]
  },
  {
   "cell_type": "markdown",
   "metadata": {},
   "source": [
    "### Summary"
   ]
  },
  {
   "cell_type": "markdown",
   "metadata": {},
   "source": [
    "In this chapter, we learned about the building blocks of PyTorch – tensor objects and\n",
    "performing various operations on top of them. We proceeded further by building a\n",
    "neural network on a toy dataset where we started by building a class that initializes\n",
    "the feed-forward architecture, fetching data points from the dataset by specifying the\n",
    "batch size, and defining the loss function and the optimizer, looping through multiple\n",
    "epochs. Finally, we also learned about defining custom loss functions to optimize a\n",
    "metric of choice and leveraging the sequential method to simplify the process of\n",
    "defining the network architecture.\n",
    "All the preceding steps form the foundation of building a neural network, which will\n",
    "be leveraged multiple times in the various use cases that we will build in subsequent\n",
    "chapters.\n",
    "With this knowledge of the various components of building a neural network using\n",
    "PyTorch, we will proceed to the next chapter, where we will learn about the various\n",
    "practical aspects of dealing with the hyperparameters of a neural network on image\n",
    "datasets."
   ]
  }
 ],
 "metadata": {
  "kernelspec": {
   "display_name": "Python 3.7.6 ('base')",
   "language": "python",
   "name": "python3"
  },
  "language_info": {
   "codemirror_mode": {
    "name": "ipython",
    "version": 3
   },
   "file_extension": ".py",
   "mimetype": "text/x-python",
   "name": "python",
   "nbconvert_exporter": "python",
   "pygments_lexer": "ipython3",
   "version": "3.7.6"
  },
  "orig_nbformat": 4,
  "vscode": {
   "interpreter": {
    "hash": "169dd4cfa2618b85e8ef5e64ff9d70433b2e7f87b8c66bdf4b101e8e57acbaaa"
   }
  }
 },
 "nbformat": 4,
 "nbformat_minor": 2
}
